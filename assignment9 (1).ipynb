{
 "cells": [
  {
   "cell_type": "code",
   "execution_count": 1,
   "id": "b76f6b97-5d46-495a-a8da-c25ca7012e45",
   "metadata": {
    "tags": []
   },
   "outputs": [],
   "source": [
    "import pandas as pd\n",
    "import numpy as np\n",
    "import matplotlib.pyplot as plt"
   ]
  },
  {
   "cell_type": "code",
   "execution_count": 2,
   "id": "9a53d1a2-22cd-4ab2-a3f5-65311004d93a",
   "metadata": {
    "tags": []
   },
   "outputs": [],
   "source": [
    "df = pd.read_csv(\"/Users/ariannabarrera/Downloads/healthcare_data.csv\")"
   ]
  },
  {
   "cell_type": "code",
   "execution_count": 3,
   "id": "1de8f6f6-19ce-4f44-85b4-309113fd386c",
   "metadata": {
    "tags": []
   },
   "outputs": [
    {
     "name": "stdout",
     "output_type": "stream",
     "text": [
      "    Patient_ID          Patient_Name  Age  Gender Blood_Type      Diagnosis  \\\n",
      "0         1001            John Smith   45    Male         A+   Hypertension   \n",
      "1         1002              Jane Doe   62  Female         B-       Diabetes   \n",
      "2         1003        Robert Johnson   35    Male         O+         Cancer   \n",
      "3         1004          Susan Wilson   78  Female         A-  Heart Disease   \n",
      "4         1005         Michael Brown   55    Male        AB+         Asthma   \n",
      "5         1006           Lisa Miller   30  Female         B+   Hypertension   \n",
      "6         1007           James Davis   48    Male         O-       Diabetes   \n",
      "7         1008          Karen Harris   65  Female        AB-         Cancer   \n",
      "8         1009          David Wilson   72    Male         A+  Heart Disease   \n",
      "9         1010           Linda Smith   42  Female         O+         Asthma   \n",
      "10        1011           William Lee   33    Male        AB+   Hypertension   \n",
      "11        1012            Mary Brown   70  Female         B-         Cancer   \n",
      "12        1013        Richard Taylor   55    Male         O+       Diabetes   \n",
      "13        1014     Patricia Martinez   51  Female         A-         Asthma   \n",
      "14        1015         Charles Jones   44    Male        AB-  Heart Disease   \n",
      "15        1016          Linda Wilson   62  Female         A+         Cancer   \n",
      "16        1017        Robert Jackson   29    Male         O-   Hypertension   \n",
      "17        1018           Laura Smith   40  Female         B+       Diabetes   \n",
      "18        1019      Michael Williams   67    Male        AB+  Heart Disease   \n",
      "19        1020         Sarah Johnson   49  Female         A-         Asthma   \n",
      "20        1021           John Wilson   38    Male         O+   Hypertension   \n",
      "21        1022           Emily Davis   54  Female         B-       Diabetes   \n",
      "22        1023         Daniel Harris   58    Male         A+         Cancer   \n",
      "23        1024       Elizabeth Smith   41  Female         O-  Heart Disease   \n",
      "24        1025         Matthew Jones   47    Male        AB+         Asthma   \n",
      "25        1026          Jennifer Lee   35  Female         B+   Hypertension   \n",
      "26        1027          Joseph Brown   60    Male         A-       Diabetes   \n",
      "27        1028          Susan Taylor   53  Female         O+         Cancer   \n",
      "28        1029     Christopher Davis   49    Male        AB-  Heart Disease   \n",
      "29        1030           Mary Wilson   56  Female         A+         Asthma   \n",
      "30        1031           David Smith   44    Male         O-   Hypertension   \n",
      "31        1032        Linda Martinez   65  Female         B+       Diabetes   \n",
      "32        1033        William Harris   30    Male        AB+         Cancer   \n",
      "33        1034             Sarah Lee   70  Female         A-  Heart Disease   \n",
      "34        1035       Michael Jackson   35    Male         O+         Asthma   \n",
      "35        1036           Karen Smith   52  Female         A+   Hypertension   \n",
      "36        1037         Robert Wilson   57    Male         B-       Diabetes   \n",
      "37        1038         Laura Johnson   43  Female        AB+         Cancer   \n",
      "38        1039         Richard Davis   62    Male         O-  Heart Disease   \n",
      "39        1040        Jennifer Smith   41  Female        AB-         Asthma   \n",
      "40        1041  Christopher Martinez   46    Male         A+   Hypertension   \n",
      "41        1042           Linda Jones   51  Female         B+       Diabetes   \n",
      "42        1043         Matthew Davis   55    Male         O+         Cancer   \n",
      "43        1044           Susan Smith   42  Female         A-  Heart Disease   \n",
      "44        1045             David Lee   59    Male        AB+         Asthma   \n",
      "45        1046      Elizabeth Wilson   64  Female         O-   Hypertension   \n",
      "46        1047        Michael Taylor   40    Male         B-       Diabetes   \n",
      "47        1048      Patricia Jackson   39  Female         A+         Cancer   \n",
      "48        1049          Daniel Brown   34    Male         O+  Heart Disease   \n",
      "49        1050           Emily Davis   47  Female        AB-         Asthma   \n",
      "\n",
      "    Treatment_Cost  \n",
      "0          1200.50  \n",
      "1           800.75  \n",
      "2          5500.00  \n",
      "3          2700.25  \n",
      "4           400.00  \n",
      "5              NaN  \n",
      "6           950.25  \n",
      "7              NaN  \n",
      "8          3200.00  \n",
      "9              NaN  \n",
      "10         1400.25  \n",
      "11             NaN  \n",
      "12          900.25  \n",
      "13          450.00  \n",
      "14         2400.75  \n",
      "15         5900.00  \n",
      "16         1300.00  \n",
      "17             NaN  \n",
      "18             NaN  \n",
      "19          420.75  \n",
      "20         1100.00  \n",
      "21             NaN  \n",
      "22         6400.00  \n",
      "23         3000.75  \n",
      "24          430.50  \n",
      "25             NaN  \n",
      "26          880.25  \n",
      "27         6100.50  \n",
      "28         2900.00  \n",
      "29          480.00  \n",
      "30             NaN  \n",
      "31          850.25  \n",
      "32             NaN  \n",
      "33             NaN  \n",
      "34          520.00  \n",
      "35             NaN  \n",
      "36          920.75  \n",
      "37         6700.00  \n",
      "38         3300.00  \n",
      "39          470.75  \n",
      "40         1280.50  \n",
      "41          870.25  \n",
      "42             NaN  \n",
      "43         2900.25  \n",
      "44             NaN  \n",
      "45         1125.25  \n",
      "46             NaN  \n",
      "47         6700.50  \n",
      "48         3100.00  \n",
      "49             NaN  \n"
     ]
    }
   ],
   "source": [
    "print(df)"
   ]
  },
  {
   "cell_type": "code",
   "execution_count": 4,
   "id": "ace72fa9-4219-41ea-bda5-92d29448304f",
   "metadata": {
    "tags": []
   },
   "outputs": [
    {
     "data": {
      "text/plain": [
       "Index(['Patient_ID', 'Patient_Name', 'Age', 'Gender', 'Blood_Type',\n",
       "       'Diagnosis', 'Treatment_Cost'],\n",
       "      dtype='object')"
      ]
     },
     "execution_count": 4,
     "metadata": {},
     "output_type": "execute_result"
    }
   ],
   "source": [
    "df.columns"
   ]
  },
  {
   "cell_type": "code",
   "execution_count": 8,
   "id": "a4c9d582-2806-4ae4-8048-70781f1c471b",
   "metadata": {
    "tags": []
   },
   "outputs": [],
   "source": [
    "value_counts = df['Age'].value_counts()"
   ]
  },
  {
   "cell_type": "code",
   "execution_count": 38,
   "id": "c4e67004-a9fc-4b47-b487-6823b3e7b5c9",
   "metadata": {
    "tags": []
   },
   "outputs": [
    {
     "data": {
      "text/plain": [
       "Text(0, 0.5, 'Patient_ID')"
      ]
     },
     "execution_count": 38,
     "metadata": {},
     "output_type": "execute_result"
    },
    {
     "data": {
      "image/png": "[encoded data removed]",
      "text/plain": [
       "<Figure size 640x480 with 1 Axes>"
      ]
     },
     "metadata": {},
     "output_type": "display_data"
    }
   ],
   "source": [
    "df_hist = (df['Age']).plot(kind='hist', bins=100, color='darkred', edgecolor='pink')\n",
    "plt.xlabel('Age')\n",
    "plt.ylabel('Patient_ID')"
   ]
  },
  {
   "cell_type": "markdown",
   "id": "9b9c09eb-a8c1-494b-8298-f589105673ae",
   "metadata": {},
   "source": [
    "NUMBER 2"
   ]
  },
  {
   "cell_type": "code",
   "execution_count": 50,
   "id": "8dfb49a3-a448-4845-8213-e54a2177caad",
   "metadata": {
    "tags": []
   },
   "outputs": [
    {
     "data": {
      "text/plain": [
       "Gender\n",
       "Male      25\n",
       "Female    25\n",
       "Name: count, dtype: int64"
      ]
     },
     "execution_count": 50,
     "metadata": {},
     "output_type": "execute_result"
    }
   ],
   "source": [
    "gender_counts = df['Gender'].value_counts()\n",
    "gender_counts"
   ]
  },
  {
   "cell_type": "code",
   "execution_count": 49,
   "id": "f458d072-dbd6-4b74-94f9-25583c3f923a",
   "metadata": {
    "tags": []
   },
   "outputs": [],
   "source": [
    "percentage_male = (gender_counts.get('Male', 0) / len(df)) * 100"
   ]
  },
  {
   "cell_type": "code",
   "execution_count": 47,
   "id": "3d09062f-c2d0-4911-8dc0-d83d6d71bb5b",
   "metadata": {
    "tags": []
   },
   "outputs": [
    {
     "name": "stdout",
     "output_type": "stream",
     "text": [
      "The percentage of male patients is: 50.00%\n"
     ]
    }
   ],
   "source": [
    "print(f\"The percentage of male patients is: {percentage_male:.2f}%\")"
   ]
  },
  {
   "cell_type": "markdown",
   "id": "0c95bb49-a43a-49a6-bec0-43f00a0d9a31",
   "metadata": {},
   "source": [
    "NUMBER 3"
   ]
  },
  {
   "cell_type": "code",
   "execution_count": 51,
   "id": "d52d5ef1-6fb1-414d-a78c-5301aaeada08",
   "metadata": {
    "tags": []
   },
   "outputs": [
    {
     "data": {
      "text/plain": [
       "Diagnosis\n",
       "Hypertension     10\n",
       "Diabetes         10\n",
       "Cancer           10\n",
       "Heart Disease    10\n",
       "Asthma           10\n",
       "Name: count, dtype: int64"
      ]
     },
     "execution_count": 51,
     "metadata": {},
     "output_type": "execute_result"
    }
   ],
   "source": [
    "Patient_counts = df['Diagnosis'].value_counts()\n",
    "Patient_counts"
   ]
  },
  {
   "cell_type": "code",
   "execution_count": 54,
   "id": "dc8c8f28-214c-44de-9cbc-6dc4a110ae47",
   "metadata": {
    "tags": []
   },
   "outputs": [],
   "source": [
    "Patient_cancer = (Patient_counts.get('Cancer'))"
   ]
  },
  {
   "cell_type": "code",
   "execution_count": 59,
   "id": "fc44224a-fcac-47f4-ba41-015e4ef516b8",
   "metadata": {
    "tags": []
   },
   "outputs": [
    {
     "name": "stdout",
     "output_type": "stream",
     "text": [
      "10\n"
     ]
    }
   ],
   "source": [
    "print(Patient_cancer)"
   ]
  },
  {
   "cell_type": "markdown",
   "id": "7830406c-e5ab-479d-8f64-ccb5689189e7",
   "metadata": {},
   "source": [
    "NUMBER 4"
   ]
  },
  {
   "cell_type": "code",
   "execution_count": 62,
   "id": "19708bcf-f5a2-4ca7-84d3-d10c503bf79c",
   "metadata": {
    "tags": []
   },
   "outputs": [],
   "source": [
    "filtered_data = df[df['Age'] >= 60]"
   ]
  },
  {
   "cell_type": "code",
   "execution_count": 63,
   "id": "2ce1ea43-99ab-4c91-a87f-24194634be80",
   "metadata": {
    "tags": []
   },
   "outputs": [],
   "source": [
    "average_cost_60_and_above = filtered_data['Treatment_Cost'].mean()"
   ]
  },
  {
   "cell_type": "code",
   "execution_count": 64,
   "id": "3437a47a-936c-418e-88b6-f8a9cfc184ff",
   "metadata": {
    "tags": []
   },
   "outputs": [
    {
     "name": "stdout",
     "output_type": "stream",
     "text": [
      "2344.59375\n"
     ]
    }
   ],
   "source": [
    "print(average_cost_60_and_above)"
   ]
  },
  {
   "cell_type": "markdown",
   "id": "14fc187d-84ee-4c25-b81d-53eda0f8d776",
   "metadata": {},
   "source": [
    "NUMBER 5"
   ]
  },
  {
   "cell_type": "code",
   "execution_count": 66,
   "id": "096c3655-7df2-462e-895e-eab4380dbeac",
   "metadata": {
    "tags": []
   },
   "outputs": [],
   "source": [
    "average_cost_by_blood_type = df.groupby('Blood_Type')['Treatment_Cost'].mean().reset_index()"
   ]
  },
  {
   "cell_type": "code",
   "execution_count": 67,
   "id": "f9170208-afba-4329-869e-2e5b961eb2ef",
   "metadata": {
    "tags": []
   },
   "outputs": [
    {
     "name": "stdout",
     "output_type": "stream",
     "text": [
      "  Blood_Type  Treatment_Cost\n",
      "0         A+     3594.500000\n",
      "1         A-     1470.300000\n",
      "2        AB+     2232.687500\n",
      "3        AB-     1923.833333\n",
      "4         B+      860.250000\n",
      "5         B-      860.750000\n",
      "6         O+     2870.125000\n",
      "7         O-     1935.250000\n"
     ]
    }
   ],
   "source": [
    "print(average_cost_by_blood_type)"
   ]
  },
  {
   "cell_type": "markdown",
   "id": "367b542c-d604-4775-9717-89294db825a6",
   "metadata": {},
   "source": [
    "NUMBER 6"
   ]
  },
  {
   "cell_type": "code",
   "execution_count": null,
   "id": "511ee234-3055-47cc-8f34-7e607650bf84",
   "metadata": {},
   "outputs": [],
   "source": [
    "average_cost_by_blood_type = df.groupby('Blood_Type')['Treatment_Cost'].mean().reset_index()"
   ]
  },
  {
   "cell_type": "code",
   "execution_count": 68,
   "id": "360dfa95-2acd-436e-84ea-ab44810c668a",
   "metadata": {
    "tags": []
   },
   "outputs": [],
   "source": [
    "max_average_cost_blood_type = average_cost_by_blood_type.loc[\n",
    "    average_cost_by_blood_type['Treatment_Cost'].idxmax()]"
   ]
  },
  {
   "cell_type": "code",
   "execution_count": 69,
   "id": "60b1b8ab-5201-4324-aa00-26d0e8f2c0b3",
   "metadata": {
    "tags": []
   },
   "outputs": [
    {
     "name": "stdout",
     "output_type": "stream",
     "text": [
      "The blood type with the highest average treatment cost is: A+\n"
     ]
    }
   ],
   "source": [
    "print(f\"The blood type with the highest average treatment cost is: {max_average_cost_blood_type['Blood_Type']}\")"
   ]
  },
  {
   "cell_type": "markdown",
   "id": "9e5b7047-0758-4387-a6aa-d31038fd513a",
   "metadata": {},
   "source": [
    "NUMBER 7"
   ]
  },
  {
   "cell_type": "code",
   "execution_count": 70,
   "id": "7b4ef8b4-53ad-4d41-873e-2c38fd70e1bc",
   "metadata": {
    "tags": []
   },
   "outputs": [],
   "source": [
    "average_age_by_group = df.groupby(['Gender', 'Diagnosis'])['Age'].mean().reset_index()\n"
   ]
  },
  {
   "cell_type": "code",
   "execution_count": 71,
   "id": "23da9bf5-da44-4af4-a385-d45a2adcda90",
   "metadata": {
    "tags": []
   },
   "outputs": [
    {
     "name": "stdout",
     "output_type": "stream",
     "text": [
      "   Gender      Diagnosis        Age\n",
      "0  Female         Asthma  47.666667\n",
      "1  Female         Cancer  55.333333\n",
      "2  Female       Diabetes  54.400000\n",
      "3  Female  Heart Disease  57.750000\n",
      "4  Female   Hypertension  45.250000\n",
      "5    Male         Asthma  49.000000\n",
      "6    Male         Cancer  44.500000\n",
      "7    Male       Diabetes  52.000000\n",
      "8    Male  Heart Disease  54.666667\n",
      "9    Male   Hypertension  39.166667\n"
     ]
    }
   ],
   "source": [
    "print(average_age_by_group)"
   ]
  }
 ],
 "metadata": {
  "kernelspec": {
   "display_name": "Python 3 (ipykernel)",
   "language": "python",
   "name": "python3"
  },
  "language_info": {
   "codemirror_mode": {
    "name": "ipython",
    "version": 3
   },
   "file_extension": ".py",
   "mimetype": "text/x-python",
   "name": "python",
   "nbconvert_exporter": "python",
   "pygments_lexer": "ipython3",
   "version": "3.11.4"
  }
 },
 "nbformat": 4,
 "nbformat_minor": 5
}
